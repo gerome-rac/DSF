{
 "cells": [
  {
   "cell_type": "code",
   "execution_count": 1,
   "metadata": {},
   "outputs": [],
   "source": [
    "import logging\n",
    "\n",
    "from dsf.client import StGallenAPI\n",
    "\n",
    "\n",
    "logging.basicConfig(level=logging.INFO)"
   ]
  },
  {
   "cell_type": "code",
   "execution_count": 2,
   "metadata": {},
   "outputs": [
    {
     "name": "stderr",
     "output_type": "stream",
     "text": [
      "INFO:dsf.client:Total records available: 43\n",
      "INFO:dsf.client:Total records available: 0\n"
     ]
    },
    {
     "name": "stdout",
     "output_type": "stream",
     "text": [
      "\n",
      "Post logistics centers:\n",
      "           ort                         zentrum postleitzahl_zentrum  \\\n",
      "0     Untervaz       Paketzentrum (Sortierung)                 7204   \n",
      "1       Vétroz       Paketzentrum (Sortierung)                 1963   \n",
      "2     Mägenwil  Logistikzentrum (Distribution)                 5506   \n",
      "3       Zürich  Logistikzentrum (Distribution)                 8050   \n",
      "4  Niederurnen  Logistikzentrum (Distribution)                 8867   \n",
      "\n",
      "               bezeichnung          id  kapazitat_pro_stunde  \\\n",
      "0  RPZ Untervaz Sortierung  RPZ_720000                7500.0   \n",
      "1    RPZ Vétroz Sortierung  RPZ_196000                7500.0   \n",
      "2                 Mägenwil   LZ_550670                   NaN   \n",
      "3              ZH-Oerlikon   LZ_805070                   NaN   \n",
      "4              Niederurnen   LZ_886770                   NaN   \n",
      "\n",
      "                      standort zentrum_nr zentrum_kennung  \n",
      "0          [46.91304, 9.54914]     720000             RPZ  \n",
      "1          [46.20355, 7.28333]     196000             RPZ  \n",
      "2  [47.415225685, 8.235406804]     550670              LZ  \n",
      "3  [47.414448559, 8.533353185]     805070              LZ  \n",
      "4  [47.135662825, 9.041057367]     886770              LZ  \n"
     ]
    },
    {
     "name": "stderr",
     "output_type": "stream",
     "text": [
      "INFO:dsf.client:Total records available: 3820\n"
     ]
    },
    {
     "name": "stdout",
     "output_type": "stream",
     "text": [
      "\n",
      "EV charging stations:\n",
      "Empty DataFrame\n",
      "Columns: []\n",
      "Index: []\n",
      "\n",
      "Statistics database:\n",
      "                             themenbereich  \\\n",
      "0  Arbeit und Unternehmen,Arbeitslosigkeit   \n",
      "1  Arbeit und Unternehmen,Arbeitslosigkeit   \n",
      "2  Arbeit und Unternehmen,Arbeitslosigkeit   \n",
      "3  Arbeit und Unternehmen,Arbeitslosigkeit   \n",
      "4  Arbeit und Unternehmen,Arbeitslosigkeit   \n",
      "\n",
      "                                         link_stada2  \\\n",
      "0  https://stada2.sg.ch/?tab=indikatoren&indikato...   \n",
      "1  https://stada2.sg.ch/?tab=indikatoren&indikato...   \n",
      "2  https://stada2.sg.ch/?tab=indikatoren&indikato...   \n",
      "3  https://stada2.sg.ch/?tab=indikatoren&indikato...   \n",
      "4  https://stada2.sg.ch/?tab=indikatoren&indikato...   \n",
      "\n",
      "                                              quelle  \\\n",
      "0                    SECO AVAM, BFS Strukturerhebung   \n",
      "1                    SECO AVAM, BFS Strukturerhebung   \n",
      "2            SECO AVAM;BFS STATPOP;Berechnung FfS-SG   \n",
      "3  Bundesamt fur Statistik gepoolte Strukturerheb...   \n",
      "4  Bundesamt fur Statistik gepoolte Strukturerheb...   \n",
      "\n",
      "                                   link_stada2_karte indikator_id  \\\n",
      "0  https://stada2.sg.ch/?tab=karten&thema=2&set=8...           45   \n",
      "1  https://stada2.sg.ch/?tab=karten&thema=2&set=8...          279   \n",
      "2  https://stada2.sg.ch/?tab=karten&thema=2&set=8...          281   \n",
      "3  https://stada2.sg.ch/?tab=karten&thema=2&set=8...          369   \n",
      "4  https://stada2.sg.ch/?tab=karten&thema=2&set=8...          372   \n",
      "\n",
      "                                 link_stada2_export  \\\n",
      "0   https://stada2.sg.ch/?tab=export&indikatoren=45   \n",
      "1  https://stada2.sg.ch/?tab=export&indikatoren=279   \n",
      "2  https://stada2.sg.ch/?tab=export&indikatoren=281   \n",
      "3  https://stada2.sg.ch/?tab=export&indikatoren=369   \n",
      "4  https://stada2.sg.ch/?tab=export&indikatoren=372   \n",
      "\n",
      "                               verfugbare_raumebenen  \\\n",
      "0  Kanton SG,Wahlkreise SG,Pol.Gemeinden SG,Kanto...   \n",
      "1  Kanton SG,Wahlkreise SG,Pol.Gemeinden SG,Kanto...   \n",
      "2  Kanton SG,Wahlkreise SG,Pol.Gemeinden SG,Kanto...   \n",
      "3  Kanton SG,Wahlkreise SG,Pol.Gemeinden SG,Kanto...   \n",
      "4  Kanton SG,Wahlkreise SG,Pol.Gemeinden SG,Kanto...   \n",
      "\n",
      "                                max_verfugbare_jahre  \\\n",
      "0  2010,2011,2012,2013,2014,2015,2016,2017,2018,2...   \n",
      "1  2010,2011,2012,2013,2014,2015,2016,2017,2018,2...   \n",
      "2  2012,2013,2014,2015,2016,2017,2018,2019,2020,2...   \n",
      "3                           2018,2019,2020,2021,2022   \n",
      "4                           2018,2019,2020,2021,2022   \n",
      "\n",
      "                                        beschreibung einheit_kurz  \\\n",
      "0  Die Jugendarbeitslosenquote ist ein Schatzwert...            %   \n",
      "1  Im laufenden Jahr werden die Zahlen zum aktuel...            %   \n",
      "2  Im laufenden Jahr werden die Zahlen zum aktuel...            %   \n",
      "3  Die Berechnung erfolgt fur Raumeinheiten ab ei...         Anz.   \n",
      "4  Die Berechnung erfolgt fur Raumeinheiten ab ei...            %   \n",
      "\n",
      "  nachste_aktualisierung                                     indikator_name  \\\n",
      "0              Monatlich  Jugendarbeitslosenquote (Vertrauensintervall o...   \n",
      "1              Monatlich                 Stellensuchendenquote (Schatzwert)   \n",
      "2              Monatlich           Stellensuchendenanteil (Wohnbevolkerung)   \n",
      "3             2025-05-30                           Erwerbslose (Schatzwert)   \n",
      "4             2025-05-30                     Erwerbslosenquote (Schatzwert)   \n",
      "\n",
      "  aktuellstes_jahr  \n",
      "0             2024  \n",
      "1             2024  \n",
      "2             2024  \n",
      "3             2022  \n",
      "4             2022  \n"
     ]
    }
   ],
   "source": [
    "client = StGallenAPI()\n",
    "\n",
    "try:\n",
    "    # Example 1: Post logistics\n",
    "    post_dataset_id = \"paket-und-logistikzentren-der-schweizerischen-post\"\n",
    "    df_post = client.get_dataset(dataset_id=post_dataset_id, limit=50, as_dataframe=True)\n",
    "    print(\"\\nPost logistics centers:\")\n",
    "    print(df_post.head())\n",
    "\n",
    "    # Example 2: Get stats db\n",
    "    stats_dataset_id = \"statistikdatenbank-stada2-fachstelle-fur-statistik-kanton-stgallen\"\n",
    "    df_stats = client.get_dataset(dataset_id=stats_dataset_id, get_all=True, order_by=\"themenbereich\")\n",
    "    print(\"\\nStatistics database:\")\n",
    "    print(df_stats.head())\n",
    "\n",
    "except Exception as e:\n",
    "    logging.error(f\"Error accessing API: {e!s}\")"
   ]
  },
  {
   "cell_type": "code",
   "execution_count": null,
   "metadata": {},
   "outputs": [],
   "source": []
  }
 ],
 "metadata": {
  "kernelspec": {
   "display_name": "hsgfcs",
   "language": "python",
   "name": "python3"
  },
  "language_info": {
   "codemirror_mode": {
    "name": "ipython",
    "version": 3
   },
   "file_extension": ".py",
   "mimetype": "text/x-python",
   "name": "python",
   "nbconvert_exporter": "python",
   "pygments_lexer": "ipython3",
   "version": "3.11.10"
  }
 },
 "nbformat": 4,
 "nbformat_minor": 2
}
