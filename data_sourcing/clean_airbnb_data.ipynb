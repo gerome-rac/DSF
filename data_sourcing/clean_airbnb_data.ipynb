{
 "cells": [
  {
   "cell_type": "code",
   "execution_count": 1,
   "metadata": {},
   "outputs": [],
   "source": [
    "import pandas as pd\n",
    "import numpy as np\n",
    "from pathlib import Path"
   ]
  },
  {
   "cell_type": "code",
   "execution_count": null,
   "metadata": {},
   "outputs": [],
   "source": [
    "all_listings = pd.concat(\n",
    "    (pd.read_csv(f) for f in Path(\"../local_data\").glob(\"listings_*.csv\")),\n",
    "    ignore_index=True,\n",
    ").sort_values(\"last_scraped\")\n",
    "all_listings.head()"
   ]
  },
  {
   "cell_type": "code",
   "execution_count": null,
   "metadata": {},
   "outputs": [],
   "source": [
    "dates = all_listings[\"last_scraped\"].unique()\n",
    "\n",
    "\n",
    "for date in dates:\n",
    "    temp_df = all_listings[all_listings[\"last_scraped\"] == date].dropna(\n",
    "        axis=1, how=\"all\"\n",
    "    )\n",
    "    print(\n",
    "        f\"Date: {date}: cols missing: {[ele for ele in all_listings.columns.tolist() if ele not in temp_df.columns.tolist()]}\"\n",
    "    )\n",
    "\n",
    "all_listings[\"last_scraped\"] = all_listings[\"last_scraped\"].replace(\n",
    "    \"2023-12-27\", \"2023-12-28\"\n",
    ")\n",
    "all_listings = all_listings.dropna(subset=[\"price\"], axis=0, how=\"all\")\n",
    "all_listings[\"bathrooms\"] = np.where(\n",
    "    all_listings[\"bathrooms_text\"].isna(),\n",
    "    all_listings[\"bathrooms\"],\n",
    "    all_listings[\"bathrooms_text\"],\n",
    ")"
   ]
  },
  {
   "cell_type": "code",
   "execution_count": null,
   "metadata": {},
   "outputs": [],
   "source": [
    "all_listings.groupby(\"last_scraped\").size()"
   ]
  },
  {
   "cell_type": "code",
   "execution_count": null,
   "metadata": {},
   "outputs": [],
   "source": []
  },
  {
   "cell_type": "code",
   "execution_count": 100,
   "metadata": {},
   "outputs": [],
   "source": [
    "pd.set_option(\"display.max_columns\", None)"
   ]
  },
  {
   "cell_type": "code",
   "execution_count": null,
   "metadata": {},
   "outputs": [],
   "source": [
    "a = combined_df.groupby(\"last_scraped\").count().sort_index()\n",
    "a.loc[:, ((a == 0).sum() > 1)]"
   ]
  },
  {
   "cell_type": "code",
   "execution_count": null,
   "metadata": {},
   "outputs": [],
   "source": []
  },
  {
   "cell_type": "code",
   "execution_count": null,
   "metadata": {},
   "outputs": [],
   "source": [
    "all_listings.filter([\"bedrooms\", \"beds\"]).describe()"
   ]
  },
  {
   "cell_type": "code",
   "execution_count": null,
   "metadata": {},
   "outputs": [],
   "source": [
    "all_listings[\"bathrooms_text\"]"
   ]
  },
  {
   "cell_type": "code",
   "execution_count": null,
   "metadata": {},
   "outputs": [],
   "source": [
    "all_listings[\"beds\"].fillna(np.nan).sub(all_listings[\"bedrooms\"]).value_counts()"
   ]
  },
  {
   "cell_type": "code",
   "execution_count": 78,
   "metadata": {},
   "outputs": [],
   "source": []
  },
  {
   "cell_type": "code",
   "execution_count": 127,
   "metadata": {},
   "outputs": [],
   "source": [
    "min_entries = 2\n",
    "\n",
    "keep_ids = (\n",
    "    all_listings.value_counts(\"id\").loc[lambda x: x >= min_entries].index.tolist()\n",
    ")\n",
    "relevant_listings = (\n",
    "    all_listings[all_listings[\"id\"].isin(keep_ids)]\n",
    "    .drop_duplicates(\"id\", keep=\"last\")\n",
    "    .dropna(how=\"all\", axis=1)\n",
    ")"
   ]
  },
  {
   "cell_type": "code",
   "execution_count": 128,
   "metadata": {},
   "outputs": [],
   "source": [
    "relevant_listings.to_csv(\"local_data/relevant_listings.csv\", index=False)"
   ]
  },
  {
   "cell_type": "code",
   "execution_count": null,
   "metadata": {},
   "outputs": [],
   "source": []
  },
  {
   "cell_type": "code",
   "execution_count": null,
   "metadata": {},
   "outputs": [],
   "source": [
    "relevant_listings.sort_values(\"price\", ascending=False)"
   ]
  },
  {
   "cell_type": "code",
   "execution_count": null,
   "metadata": {},
   "outputs": [],
   "source": []
  }
 ],
 "metadata": {
  "kernelspec": {
   "display_name": "Python 3",
   "language": "python",
   "name": "python3"
  },
  "language_info": {
   "codemirror_mode": {
    "name": "ipython",
    "version": 3
   },
   "file_extension": ".py",
   "mimetype": "text/x-python",
   "name": "python",
   "nbconvert_exporter": "python",
   "pygments_lexer": "ipython3",
   "version": "3.11.10"
  }
 },
 "nbformat": 4,
 "nbformat_minor": 2
}
