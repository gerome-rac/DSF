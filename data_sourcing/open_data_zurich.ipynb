{
 "cells": [
  {
   "cell_type": "markdown",
   "metadata": {},
   "source": [
    "# Open Data Zurich API\n",
    "\n",
    "### https://www.zuerich.com/en/api/v2/data\n"
   ]
  },
  {
   "cell_type": "code",
   "execution_count": 1,
   "metadata": {},
   "outputs": [],
   "source": [
    "import logging\n",
    "import pandas as pd\n",
    "import requests"
   ]
  },
  {
   "cell_type": "code",
   "execution_count": 2,
   "metadata": {},
   "outputs": [],
   "source": [
    "logger = logging.getLogger(__name__)\n",
    "pd.set_option(\"display.max_columns\", None)"
   ]
  },
  {
   "cell_type": "markdown",
   "metadata": {},
   "source": [
    "### data fetching functions\n"
   ]
  },
  {
   "cell_type": "code",
   "execution_count": 3,
   "metadata": {},
   "outputs": [],
   "source": [
    "def fetch_zurich_data(dataset_id: int) -> pd.DataFrame:\n",
    "    \"\"\"\n",
    "    Fetch data from Zürich Open Data API v2.0 and convert to pandas DataFrame.\n",
    "\n",
    "    Args:\n",
    "        dataset_id: The ID of the dataset to fetch\n",
    "\n",
    "    Returns:\n",
    "        pd.DataFrame: DataFrame containing the fetched data\n",
    "\n",
    "    Raises:\n",
    "        requests.RequestException: If API request fails\n",
    "        ValueError: If response data is invalid\n",
    "    \"\"\"\n",
    "    logging.basicConfig(level=logging.INFO)\n",
    "    logger = logging.getLogger(__name__)\n",
    "\n",
    "    base_url = \"https://www.zuerich.com/en/api/v2/data\"\n",
    "    params = {\"id\": dataset_id}\n",
    "\n",
    "    try:\n",
    "        logger.info(f\"Fetching data from API for dataset {dataset_id}\")\n",
    "        response = requests.get(base_url, params=params)\n",
    "        response.raise_for_status()\n",
    "\n",
    "        data = response.json()\n",
    "        df = pd.DataFrame(data)\n",
    "\n",
    "        if df.empty:\n",
    "            raise ValueError(\"Received empty dataset from API\")\n",
    "\n",
    "        logger.info(f\"Successfully fetched {len(df)} records\")\n",
    "        return df\n",
    "\n",
    "    except requests.RequestException as e:\n",
    "        logger.error(f\"API request failed: {e!s}\")\n",
    "        raise\n",
    "    except ValueError as e:\n",
    "        logger.error(f\"Data validation failed: {e!s}\")\n",
    "        raise\n",
    "    except Exception as e:\n",
    "        logger.error(f\"Unexpected error: {e!s}\")\n",
    "        raise"
   ]
  },
  {
   "cell_type": "markdown",
   "metadata": {},
   "source": [
    "# fetch data\n"
   ]
  },
  {
   "cell_type": "markdown",
   "metadata": {},
   "source": [
    "### dataset overview\n"
   ]
  },
  {
   "cell_type": "code",
   "execution_count": 4,
   "metadata": {},
   "outputs": [
    {
     "name": "stderr",
     "output_type": "stream",
     "text": [
      "INFO:__main__:Fetching data from API for dataset {}\n",
      "INFO:__main__:Successfully fetched 162 records\n"
     ]
    }
   ],
   "source": [
    "dataset_overview = fetch_zurich_data(dataset_id={})"
   ]
  },
  {
   "cell_type": "code",
   "execution_count": 5,
   "metadata": {},
   "outputs": [],
   "source": [
    "dataset_overview[\"id\"] = dataset_overview[\"id\"].astype(int)\n",
    "dataset_overview[\"parent\"] = dataset_overview[\"parent\"].astype(int)\n",
    "dataset_overview[\"name_en\"] = dataset_overview[\"name\"].apply(\n",
    "    lambda x: x.get(\"en\", \"\") if isinstance(x, dict) else \"\"\n",
    ")"
   ]
  },
  {
   "cell_type": "code",
   "execution_count": 6,
   "metadata": {},
   "outputs": [
    {
     "name": "stdout",
     "output_type": "stream",
     "text": [
      "['Accommodation', 'Attractions', 'Place', 'Gastronomy', 'Events', 'Hotels', 'Apartments', 'B&Bs', 'Hostels', 'Campsites', 'Architecture', 'Vantage Points', 'Monuments', 'Works of Art', 'Squares & Streets', 'Churches', 'Shopping', 'Culture', 'Sport', 'Wellness', 'Nature', 'Nightlife', 'Restaurants', 'Coffee Houses & Tea Rooms', 'Bars & Lounges', 'Online Bookings', 'Exhibitions', 'Parties', 'Festivals', 'Comedy', 'Sports Events', 'Fashion & Accessoires', 'Swissness', 'Watches & Jewelry', 'Souvenirs & Gifts', 'Food & Delicacy', 'Markets', 'Movie', 'Music', 'Stages', 'Museums', 'Walks', 'Hikes', 'Bike Tours', 'Mountain Biking', 'Swimming', 'Inline Skating', 'Running', 'Summer Tobogganing', 'Climbing', 'Golf', 'Waterskiing/Wakeboarding', 'Motor Boat Hire', 'Sailing', 'SUP Stand Up Paddling', 'Pedalos', 'Skiing/Snowboarding', 'Tobogganing', 'Ski Touring', 'Snowshoe Trekking', 'Ice Skating', 'Cross-Country Skiing', 'Mountains', 'Water', 'Parks & Gardens', 'Zoos & Animals', 'Clubs & Discos', 'Live Music', 'Casinos', 'Cuisine', 'Meal', 'Coffee', 'Confectionery', 'Cakes', 'Tea', 'Opera', 'Theater', 'Art', 'Galleries', 'Photography', 'Design & Architecture', 'Cultural History', 'Science & Technology', 'Swiss Specialties', 'Italian', 'Spanish', 'French', 'Asian', 'Oriental', 'Mexican', 'Mediterranean', 'Bistro', 'American', 'Gourmet', 'BBQ', 'Fish', 'Vegetarian', 'Breakfast', 'Brunch', 'Lunch', 'Dinner', 'Raclette', 'Fondue', 'Hashbrown (Rösti)', 'Zürcher Geschnetzeltes', 'Pizza', 'Pasta', 'Sushi', 'Tours & Excursions', 'Trade Fair / Market', 'Other', 'Children and families', 'Pop, Rock, Jazz', 'Traditional', 'Vegan friendly', 'Classical', 'International', 'Department store', 'Shopping Mall', 'Christmas Market', 'Conferences and congresses', 'Vacation Apartments', 'Tourist Information', 'Bike Hire', 'Surfing', 'Winery', 'House / Techno / Electro', 'Hip-Hop / Rap / Reggae', 'Rock / Alternative', 'Latin / Salsa', 'Afterhours', 'Jazz / World Music', 'Party Beats', 'Cocktail Bar', 'Music Bar / Live Music', 'Pub / Special Beer Types', 'Restaurant & Bar', 'Hotel Bar', 'Choice Spirits', 'Cultural Locale', 'After-work', 'Open-air Area', 'Wine Bar', 'Neighborhood Bar', 'Atmosphere', 'Alternative and Arty', 'Relaxed and Cozy', 'Lively and Cheerful', 'Glamorous and Chic', 'Cultural and Inspiring', 'LGBTQ+*', 'Cool and Trendy', 'Traditional and Down-to-earth', 'Products', 'Made in Zurich', 'Sustainable Production', 'Child-friendly', 'Family-friendly', 'Garden Terrace', 'Restaurant Features']\n"
     ]
    }
   ],
   "source": [
    "# all datasets\n",
    "print(dataset_overview.sort_values(\"id\")[\"name_en\"].unique().tolist())"
   ]
  },
  {
   "cell_type": "code",
   "execution_count": 7,
   "metadata": {},
   "outputs": [
    {
     "name": "stdout",
     "output_type": "stream",
     "text": [
      "['Accommodation', 'Attractions', 'Place', 'Gastronomy', 'Events', 'Shopping', 'Culture', 'Sport', 'Nature', 'Nightlife', 'Restaurants', 'Coffee Houses & Tea Rooms', 'Bars & Lounges', 'Stages', 'Museums', 'Clubs & Discos', 'Cuisine', 'Meal', 'Swiss Specialties', 'Italian', 'Asian', 'Atmosphere', 'Products', 'Restaurant Features']\n"
     ]
    }
   ],
   "source": [
    "# all parent datasets\n",
    "print(\n",
    "    dataset_overview[\n",
    "        dataset_overview[\"id\"].isin(dataset_overview[\"parent\"].unique().tolist())\n",
    "    ]\n",
    "    .sort_values(\"id\")[\"name_en\"]\n",
    "    .unique()\n",
    "    .tolist()\n",
    ")"
   ]
  },
  {
   "cell_type": "code",
   "execution_count": null,
   "metadata": {},
   "outputs": [],
   "source": []
  },
  {
   "cell_type": "code",
   "execution_count": 8,
   "metadata": {},
   "outputs": [],
   "source": [
    "# set datasets to include\n",
    "include_datasets = [\n",
    "    \"Accommodation\",\n",
    "    \"Attractions\",\n",
    "    \"Place\",\n",
    "    \"Gastronomy\",\n",
    "    \"Events\",\n",
    "    \"Shopping\",\n",
    "    \"Culture\",\n",
    "    \"Sport\",\n",
    "    \"Nature\",\n",
    "    \"Nightlife\",\n",
    "    \"Restaurants\",\n",
    "    \"Coffee Houses & Tea Rooms\",\n",
    "    \"Bars & Lounges\",\n",
    "    \"Stages\",\n",
    "    \"Museums\",\n",
    "    \"Clubs & Discos\",\n",
    "    \"Cuisine\",\n",
    "    \"Meal\",\n",
    "    \"Swiss Specialties\",\n",
    "    \"Italian\",\n",
    "    \"Asian\",\n",
    "    \"Atmosphere\",\n",
    "    \"Products\",\n",
    "    \"Restaurant Features\",\n",
    "]"
   ]
  },
  {
   "cell_type": "code",
   "execution_count": 9,
   "metadata": {},
   "outputs": [
    {
     "name": "stderr",
     "output_type": "stream",
     "text": [
      "INFO:__main__:Fetching data from API for dataset 71\n",
      "INFO:__main__:Successfully fetched 189 records\n",
      "INFO:__main__:Fetching data from API for dataset 1471\n",
      "INFO:__main__:Successfully fetched 191 records\n",
      "INFO:__main__:Fetching data from API for dataset 188\n",
      "ERROR:__main__:API request failed: 500 Server Error: Internal Server Error for url: https://www.zuerich.com/en/api/v2/data?id=188\n",
      "ERROR:__main__:Error: 500 Server Error: Internal Server Error for url: https://www.zuerich.com/en/api/v2/data?id=188\n",
      "INFO:__main__:Fetching data from API for dataset 72\n",
      "INFO:__main__:Successfully fetched 109 records\n",
      "INFO:__main__:Fetching data from API for dataset 103\n",
      "INFO:__main__:Successfully fetched 223 records\n",
      "INFO:__main__:Fetching data from API for dataset 135\n",
      "INFO:__main__:Successfully fetched 19 records\n",
      "INFO:__main__:Fetching data from API for dataset 102\n",
      "ERROR:__main__:API request failed: 500 Server Error: Internal Server Error for url: https://www.zuerich.com/en/api/v2/data?id=102\n",
      "ERROR:__main__:Error: 500 Server Error: Internal Server Error for url: https://www.zuerich.com/en/api/v2/data?id=102\n",
      "INFO:__main__:Fetching data from API for dataset 162\n",
      "INFO:__main__:Successfully fetched 73 records\n",
      "INFO:__main__:Fetching data from API for dataset 165\n",
      "ERROR:__main__:API request failed: 500 Server Error: Internal Server Error for url: https://www.zuerich.com/en/api/v2/data?id=165\n",
      "ERROR:__main__:Error: 500 Server Error: Internal Server Error for url: https://www.zuerich.com/en/api/v2/data?id=165\n",
      "INFO:__main__:Fetching data from API for dataset 96\n",
      "ERROR:__main__:API request failed: 500 Server Error: Internal Server Error for url: https://www.zuerich.com/en/api/v2/data?id=96\n",
      "ERROR:__main__:Error: 500 Server Error: Internal Server Error for url: https://www.zuerich.com/en/api/v2/data?id=96\n",
      "INFO:__main__:Fetching data from API for dataset 75\n",
      "INFO:__main__:Successfully fetched 4 records\n",
      "INFO:__main__:Fetching data from API for dataset 74\n",
      "ERROR:__main__:API request failed: 500 Server Error: Internal Server Error for url: https://www.zuerich.com/en/api/v2/data?id=74\n",
      "ERROR:__main__:Error: 500 Server Error: Internal Server Error for url: https://www.zuerich.com/en/api/v2/data?id=74\n",
      "INFO:__main__:Fetching data from API for dataset 185\n",
      "INFO:__main__:Successfully fetched 67 records\n",
      "INFO:__main__:Fetching data from API for dataset 73\n",
      "ERROR:__main__:API request failed: 500 Server Error: Internal Server Error for url: https://www.zuerich.com/en/api/v2/data?id=73\n",
      "ERROR:__main__:Error: 500 Server Error: Internal Server Error for url: https://www.zuerich.com/en/api/v2/data?id=73\n",
      "INFO:__main__:Fetching data from API for dataset 166\n",
      "ERROR:__main__:API request failed: 500 Server Error: Internal Server Error for url: https://www.zuerich.com/en/api/v2/data?id=166\n",
      "ERROR:__main__:Error: 500 Server Error: Internal Server Error for url: https://www.zuerich.com/en/api/v2/data?id=166\n",
      "INFO:__main__:Fetching data from API for dataset 136\n",
      "ERROR:__main__:API request failed: 500 Server Error: Internal Server Error for url: https://www.zuerich.com/en/api/v2/data?id=136\n",
      "ERROR:__main__:Error: 500 Server Error: Internal Server Error for url: https://www.zuerich.com/en/api/v2/data?id=136\n",
      "INFO:__main__:Fetching data from API for dataset 99\n",
      "INFO:__main__:Successfully fetched 151 records\n",
      "INFO:__main__:Fetching data from API for dataset 100\n",
      "INFO:__main__:Successfully fetched 232 records\n",
      "INFO:__main__:Fetching data from API for dataset 1531\n",
      "INFO:__main__:Successfully fetched 10 records\n",
      "INFO:__main__:Fetching data from API for dataset 10026\n",
      "INFO:__main__:Successfully fetched 96 records\n",
      "INFO:__main__:Fetching data from API for dataset 101\n",
      "ERROR:__main__:API request failed: 500 Server Error: Internal Server Error for url: https://www.zuerich.com/en/api/v2/data?id=101\n",
      "ERROR:__main__:Error: 500 Server Error: Internal Server Error for url: https://www.zuerich.com/en/api/v2/data?id=101\n",
      "INFO:__main__:Fetching data from API for dataset 184\n",
      "INFO:__main__:Successfully fetched 122 records\n",
      "INFO:__main__:Fetching data from API for dataset 95\n",
      "ERROR:__main__:API request failed: 500 Server Error: Internal Server Error for url: https://www.zuerich.com/en/api/v2/data?id=95\n",
      "ERROR:__main__:Error: 500 Server Error: Internal Server Error for url: https://www.zuerich.com/en/api/v2/data?id=95\n",
      "INFO:__main__:Fetching data from API for dataset 97\n",
      "INFO:__main__:Successfully fetched 215 records\n"
     ]
    }
   ],
   "source": [
    "data = pd.DataFrame()\n",
    "\n",
    "for dataset_id in (\n",
    "    dataset_overview[dataset_overview[\"name_en\"].isin(include_datasets)][\"id\"]\n",
    "    .unique()\n",
    "    .tolist()\n",
    "):\n",
    "    try:\n",
    "        df = fetch_zurich_data(dataset_id=dataset_id)\n",
    "        df[\"dataset_id\"] = dataset_id\n",
    "        data = pd.concat([data, df])\n",
    "    except Exception as e:\n",
    "        logger.error(f\"Error: {e!s}\")"
   ]
  },
  {
   "cell_type": "code",
   "execution_count": null,
   "metadata": {},
   "outputs": [],
   "source": []
  },
  {
   "cell_type": "markdown",
   "metadata": {},
   "source": [
    "## data cleaning\n"
   ]
  },
  {
   "cell_type": "code",
   "execution_count": 10,
   "metadata": {},
   "outputs": [],
   "source": [
    "data_cleaned = data.copy()\n",
    "data_cleaned = data_cleaned.drop_duplicates(subset=\"identifier\", keep=\"first\")\n",
    "data_cleaned[\"name_en\"] = data_cleaned[\"name\"].apply(\n",
    "    lambda x: x.get(\"en\", \"\") if isinstance(x, dict) else \"\"\n",
    ")\n",
    "data_cleaned[\"latitude\"] = data_cleaned[\"geoCoordinates\"].apply(\n",
    "    lambda x: x.get(\"latitude\", \"\") if isinstance(x, dict) else \"\"\n",
    ")\n",
    "data_cleaned[\"longitude\"] = data_cleaned[\"geoCoordinates\"].apply(\n",
    "    lambda x: x.get(\"longitude\", \"\") if isinstance(x, dict) else \"\"\n",
    ")"
   ]
  },
  {
   "cell_type": "markdown",
   "metadata": {},
   "source": [
    "### store data\n"
   ]
  },
  {
   "cell_type": "code",
   "execution_count": 11,
   "metadata": {},
   "outputs": [],
   "source": [
    "output_data = (\n",
    "    data_cleaned.filter([\"identifier\", \"@type\", \"name_en\", \"latitude\", \"longitude\"])\n",
    "    .rename(columns={\"name_en\": \"name\", \"@type\": \"type\"})\n",
    "    .sort_values([\"type\", \"name\"])\n",
    ")\n",
    "output_data.to_csv(\"../local_data/tourism.csv\", index=False)"
   ]
  },
  {
   "cell_type": "code",
   "execution_count": 12,
   "metadata": {},
   "outputs": [
    {
     "data": {
      "text/html": [
       "<div>\n",
       "<style scoped>\n",
       "    .dataframe tbody tr th:only-of-type {\n",
       "        vertical-align: middle;\n",
       "    }\n",
       "\n",
       "    .dataframe tbody tr th {\n",
       "        vertical-align: top;\n",
       "    }\n",
       "\n",
       "    .dataframe thead th {\n",
       "        text-align: right;\n",
       "    }\n",
       "</style>\n",
       "<table border=\"1\" class=\"dataframe\">\n",
       "  <thead>\n",
       "    <tr style=\"text-align: right;\">\n",
       "      <th></th>\n",
       "      <th>identifier</th>\n",
       "      <th>type</th>\n",
       "      <th>name</th>\n",
       "      <th>latitude</th>\n",
       "      <th>longitude</th>\n",
       "    </tr>\n",
       "  </thead>\n",
       "  <tbody>\n",
       "    <tr>\n",
       "      <th>71</th>\n",
       "      <td>88375</td>\n",
       "      <td>BarOrPub</td>\n",
       "      <td>2. Akt Restaurant &amp; Bar</td>\n",
       "      <td>47.369830</td>\n",
       "      <td>8.533639</td>\n",
       "    </tr>\n",
       "    <tr>\n",
       "      <th>72</th>\n",
       "      <td>88366</td>\n",
       "      <td>BarOrPub</td>\n",
       "      <td>4. Akt Restaurant &amp; Bar</td>\n",
       "      <td>47.389523</td>\n",
       "      <td>8.521725</td>\n",
       "    </tr>\n",
       "    <tr>\n",
       "      <th>178</th>\n",
       "      <td>2033</td>\n",
       "      <td>BarOrPub</td>\n",
       "      <td>67 Sportsbar</td>\n",
       "      <td>47.176646</td>\n",
       "      <td>8.507680</td>\n",
       "    </tr>\n",
       "    <tr>\n",
       "      <th>37</th>\n",
       "      <td>326061</td>\n",
       "      <td>BarOrPub</td>\n",
       "      <td>Acid</td>\n",
       "      <td>47.377111</td>\n",
       "      <td>8.526034</td>\n",
       "    </tr>\n",
       "    <tr>\n",
       "      <th>55</th>\n",
       "      <td>168166</td>\n",
       "      <td>BarOrPub</td>\n",
       "      <td>Aelpli Bar</td>\n",
       "      <td>47.371387</td>\n",
       "      <td>8.543551</td>\n",
       "    </tr>\n",
       "  </tbody>\n",
       "</table>\n",
       "</div>"
      ],
      "text/plain": [
       "    identifier      type                     name   latitude  longitude\n",
       "71       88375  BarOrPub  2. Akt Restaurant & Bar  47.369830   8.533639\n",
       "72       88366  BarOrPub  4. Akt Restaurant & Bar  47.389523   8.521725\n",
       "178       2033  BarOrPub             67 Sportsbar  47.176646   8.507680\n",
       "37      326061  BarOrPub                     Acid  47.377111   8.526034\n",
       "55      168166  BarOrPub               Aelpli Bar  47.371387   8.543551"
      ]
     },
     "execution_count": 12,
     "metadata": {},
     "output_type": "execute_result"
    }
   ],
   "source": [
    "output_data.head()"
   ]
  },
  {
   "cell_type": "code",
   "execution_count": null,
   "metadata": {},
   "outputs": [],
   "source": []
  }
 ],
 "metadata": {
  "kernelspec": {
   "display_name": "dsf",
   "language": "python",
   "name": "python3"
  },
  "language_info": {
   "codemirror_mode": {
    "name": "ipython",
    "version": 3
   },
   "file_extension": ".py",
   "mimetype": "text/x-python",
   "name": "python",
   "nbconvert_exporter": "python",
   "pygments_lexer": "ipython3",
   "version": "3.11.10"
  }
 },
 "nbformat": 4,
 "nbformat_minor": 2
}
