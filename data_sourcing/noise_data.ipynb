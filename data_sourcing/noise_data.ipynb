{
 "cells": [
  {
   "cell_type": "code",
   "execution_count": 5,
   "metadata": {},
   "outputs": [],
   "source": [
    "import re\n",
    "\n",
    "import pandas as pd\n",
    "from pyproj import Transformer"
   ]
  },
  {
   "cell_type": "code",
   "execution_count": 6,
   "metadata": {},
   "outputs": [],
   "source": [
    "noise_data = pd.read_csv(\"../local_data/noise_data_raw.csv\")"
   ]
  },
  {
   "cell_type": "code",
   "execution_count": 7,
   "metadata": {},
   "outputs": [],
   "source": [
    "def extract_coordinates(point_str: str) -> tuple[float, float, float]:\n",
    "    \"\"\"\n",
    "    Extract x, y, z coordinates from a POINT Z string.\n",
    "\n",
    "    Args:\n",
    "        point_str: String in format 'POINT Z (x y z)'\n",
    "\n",
    "    Returns:\n",
    "        Tuple containing x, y, z coordinates as floats\n",
    "    \"\"\"\n",
    "    # Extract numbers using regex\n",
    "    coords = re.findall(r\"[-+]?\\d*\\.\\d+|\\d+\", point_str)\n",
    "    return float(coords[0]), float(coords[1]), float(coords[2])\n",
    "\n",
    "\n",
    "# Create transformer from CH1903+/LV95 to WGS84\n",
    "transformer = Transformer.from_crs(\"EPSG:2056\", \"EPSG:4326\")\n",
    "\n",
    "# Extract coordinates and transform them\n",
    "coords_list = noise_data[\"geometry\"].apply(extract_coordinates)\n",
    "transformed_coords = coords_list.apply(lambda x: transformer.transform(x[0], x[1]) + (x[2],))\n",
    "\n",
    "# Add new columns\n",
    "noise_data[\"latitude\"] = [coord[0] for coord in transformed_coords]\n",
    "noise_data[\"longitude\"] = [coord[1] for coord in transformed_coords]\n",
    "noise_data[\"elevation\"] = [coord[2] for coord in transformed_coords]"
   ]
  },
  {
   "cell_type": "code",
   "execution_count": 8,
   "metadata": {},
   "outputs": [],
   "source": [
    "noise_data.drop(columns=[\"geometry\"]).to_csv(\"../local_data/noise_data_cleaned.csv\", index=False)"
   ]
  },
  {
   "cell_type": "code",
   "execution_count": null,
   "metadata": {},
   "outputs": [],
   "source": []
  }
 ],
 "metadata": {
  "kernelspec": {
   "display_name": "DSF",
   "language": "python",
   "name": "python3"
  },
  "language_info": {
   "codemirror_mode": {
    "name": "ipython",
    "version": 3
   },
   "file_extension": ".py",
   "mimetype": "text/x-python",
   "name": "python",
   "nbconvert_exporter": "python",
   "pygments_lexer": "ipython3",
   "version": "3.11.10"
  }
 },
 "nbformat": 4,
 "nbformat_minor": 2
}
