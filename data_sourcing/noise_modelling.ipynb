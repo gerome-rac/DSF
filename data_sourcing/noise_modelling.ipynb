{
 "cells": [
  {
   "cell_type": "code",
   "execution_count": 4,
   "metadata": {},
   "outputs": [],
   "source": [
    "import geopandas as gpd\n",
    "import shapely as shp"
   ]
  },
  {
   "cell_type": "code",
   "execution_count": null,
   "metadata": {},
   "outputs": [],
   "source": []
  },
  {
   "cell_type": "code",
   "execution_count": 5,
   "metadata": {},
   "outputs": [],
   "source": [
    "import pandas as pd\n",
    "import numpy as np\n",
    "\n",
    "# Load the data\n",
    "noise_data = pd.read_csv(\"../local_data/noise_data_cleaned.csv\")\n",
    "\n",
    "noise_data[\"geometry\"] = noise_data.apply(lambda x: shp.geometry.Point(x.longitude, x.latitude, x.elevation), axis=1)\n"
   ]
  },
  {
   "cell_type": "code",
   "execution_count": 7,
   "metadata": {},
   "outputs": [],
   "source": [
    "noise_data.drop(columns=[\"latitude\", \"longitude\", \"elevation\"], inplace=True)"
   ]
  },
  {
   "cell_type": "code",
   "execution_count": 10,
   "metadata": {},
   "outputs": [
    {
     "data": {
      "text/html": [
       "<div>\n",
       "<style scoped>\n",
       "    .dataframe tbody tr th:only-of-type {\n",
       "        vertical-align: middle;\n",
       "    }\n",
       "\n",
       "    .dataframe tbody tr th {\n",
       "        vertical-align: top;\n",
       "    }\n",
       "\n",
       "    .dataframe thead th {\n",
       "        text-align: right;\n",
       "    }\n",
       "</style>\n",
       "<table border=\"1\" class=\"dataframe\">\n",
       "  <thead>\n",
       "    <tr style=\"text-align: right;\">\n",
       "      <th></th>\n",
       "      <th>lr_day</th>\n",
       "      <th>lr_night</th>\n",
       "      <th>geometry</th>\n",
       "    </tr>\n",
       "  </thead>\n",
       "  <tbody>\n",
       "    <tr>\n",
       "      <th>0</th>\n",
       "      <td>56.099998</td>\n",
       "      <td>46.400002</td>\n",
       "      <td>POINT Z (8.49072 47.39057 400.4797)</td>\n",
       "    </tr>\n",
       "    <tr>\n",
       "      <th>1</th>\n",
       "      <td>56.500000</td>\n",
       "      <td>46.799999</td>\n",
       "      <td>POINT Z (8.49072 47.39057 403.1931)</td>\n",
       "    </tr>\n",
       "    <tr>\n",
       "      <th>2</th>\n",
       "      <td>56.400002</td>\n",
       "      <td>46.700001</td>\n",
       "      <td>POINT Z (8.49072 47.39057 405.9064)</td>\n",
       "    </tr>\n",
       "    <tr>\n",
       "      <th>3</th>\n",
       "      <td>56.200001</td>\n",
       "      <td>46.500000</td>\n",
       "      <td>POINT Z (8.49072 47.39057 408.6198)</td>\n",
       "    </tr>\n",
       "    <tr>\n",
       "      <th>4</th>\n",
       "      <td>56.000000</td>\n",
       "      <td>46.299999</td>\n",
       "      <td>POINT Z (8.49072 47.39057 411.3332)</td>\n",
       "    </tr>\n",
       "    <tr>\n",
       "      <th>...</th>\n",
       "      <td>...</td>\n",
       "      <td>...</td>\n",
       "      <td>...</td>\n",
       "    </tr>\n",
       "    <tr>\n",
       "      <th>2657566</th>\n",
       "      <td>36.599998</td>\n",
       "      <td>30.900000</td>\n",
       "      <td>POINT Z (8.53298 47.39542 464.9875)</td>\n",
       "    </tr>\n",
       "    <tr>\n",
       "      <th>2657567</th>\n",
       "      <td>37.900002</td>\n",
       "      <td>32.299999</td>\n",
       "      <td>POINT Z (8.53298 47.39542 467.7687)</td>\n",
       "    </tr>\n",
       "    <tr>\n",
       "      <th>2657568</th>\n",
       "      <td>36.400002</td>\n",
       "      <td>30.600000</td>\n",
       "      <td>POINT Z (8.533 47.39539 462.2062)</td>\n",
       "    </tr>\n",
       "    <tr>\n",
       "      <th>2657569</th>\n",
       "      <td>37.700001</td>\n",
       "      <td>32.200001</td>\n",
       "      <td>POINT Z (8.533 47.39539 464.9875)</td>\n",
       "    </tr>\n",
       "    <tr>\n",
       "      <th>2657570</th>\n",
       "      <td>38.400002</td>\n",
       "      <td>32.900002</td>\n",
       "      <td>POINT Z (8.533 47.39539 467.7687)</td>\n",
       "    </tr>\n",
       "  </tbody>\n",
       "</table>\n",
       "<p>2657571 rows × 3 columns</p>\n",
       "</div>"
      ],
      "text/plain": [
       "            lr_day   lr_night                             geometry\n",
       "0        56.099998  46.400002  POINT Z (8.49072 47.39057 400.4797)\n",
       "1        56.500000  46.799999  POINT Z (8.49072 47.39057 403.1931)\n",
       "2        56.400002  46.700001  POINT Z (8.49072 47.39057 405.9064)\n",
       "3        56.200001  46.500000  POINT Z (8.49072 47.39057 408.6198)\n",
       "4        56.000000  46.299999  POINT Z (8.49072 47.39057 411.3332)\n",
       "...            ...        ...                                  ...\n",
       "2657566  36.599998  30.900000  POINT Z (8.53298 47.39542 464.9875)\n",
       "2657567  37.900002  32.299999  POINT Z (8.53298 47.39542 467.7687)\n",
       "2657568  36.400002  30.600000    POINT Z (8.533 47.39539 462.2062)\n",
       "2657569  37.700001  32.200001    POINT Z (8.533 47.39539 464.9875)\n",
       "2657570  38.400002  32.900002    POINT Z (8.533 47.39539 467.7687)\n",
       "\n",
       "[2657571 rows x 3 columns]"
      ]
     },
     "execution_count": 10,
     "metadata": {},
     "output_type": "execute_result"
    }
   ],
   "source": [
    "noise_data"
   ]
  },
  {
   "cell_type": "code",
   "execution_count": null,
   "metadata": {},
   "outputs": [],
   "source": [
    "noise_data = gpd.GeoDataFrame(noise_data, geometry = \"geometry\")"
   ]
  },
  {
   "cell_type": "code",
   "execution_count": 18,
   "metadata": {},
   "outputs": [],
   "source": [
    "model_3d = gpd.read_file(\"../local_data/model_3d.gpkg\")\n",
    "model_3d.set_crs(\"EPSG:2056\", inplace=True)\n",
    "model_3d = model_3d.to_crs(\"EPSG:4326\")"
   ]
  },
  {
   "cell_type": "code",
   "execution_count": 20,
   "metadata": {},
   "outputs": [
    {
     "data": {
      "text/plain": [
       "array(['Gebaeude_Wohngebaeude', 'Gebaeude_Handel',\n",
       "       'uebriger_Gebaeudeteil', 'Gebaeude_Verwaltung',\n",
       "       'Gebaeude_Industrie_Gewerbe', 'Gebaeude_Gastgewerbe', 'Unterstand',\n",
       "       'Gebaeude_Nebengebaeude', 'Mast_Antenne', 'Gebaeude_Verkehr',\n",
       "       'Pfeiler', 'Gebaeude_Land_Forstwirtschaft_Gaertnerei',\n",
       "       'Landungssteg', '', 'Bruecke_Passerelle', 'Silo_Turm_Gasometer',\n",
       "       'Hochkamin', 'Aussichtsturm', 'Massiver_Sockel', 'Uferverbauung'],\n",
       "      dtype=object)"
      ]
     },
     "execution_count": 20,
     "metadata": {},
     "output_type": "execute_result"
    }
   ],
   "source": [
    "model_3d[\"art_txt\"].unique()"
   ]
  },
  {
   "cell_type": "code",
   "execution_count": 22,
   "metadata": {},
   "outputs": [],
   "source": [
    "data = pd.read_csv(\"../local_data/listings.csv\")\n",
    "required_cols = [\n",
    "    \"name\",\n",
    "    \"latitude\",\n",
    "    \"longitude\",\n",
    "    \"price\",\n",
    "]\n",
    "drop_cols = []\n",
    "listings = data.drop(columns=drop_cols, errors=\"ignore\").copy()\n",
    "listings = listings.dropna(subset=required_cols)"
   ]
  },
  {
   "cell_type": "code",
   "execution_count": 23,
   "metadata": {},
   "outputs": [],
   "source": [
    "listings= listings[[\"id\", \"latitude\", \"longitude\"]].copy()"
   ]
  },
  {
   "cell_type": "code",
   "execution_count": 24,
   "metadata": {},
   "outputs": [],
   "source": [
    "geolistings = gpd.GeoDataFrame(listings, geometry=gpd.points_from_xy(listings.longitude, listings.latitude))"
   ]
  },
  {
   "cell_type": "code",
   "execution_count": 26,
   "metadata": {},
   "outputs": [],
   "source": [
    "geolistings.drop(columns=[\"latitude\", \"longitude\"], inplace=True)"
   ]
  },
  {
   "cell_type": "code",
   "execution_count": null,
   "metadata": {},
   "outputs": [],
   "source": []
  }
 ],
 "metadata": {
  "kernelspec": {
   "display_name": "dsf",
   "language": "python",
   "name": "python3"
  },
  "language_info": {
   "codemirror_mode": {
    "name": "ipython",
    "version": 3
   },
   "file_extension": ".py",
   "mimetype": "text/x-python",
   "name": "python",
   "nbconvert_exporter": "python",
   "pygments_lexer": "ipython3",
   "version": "3.11.10"
  }
 },
 "nbformat": 4,
 "nbformat_minor": 2
}
