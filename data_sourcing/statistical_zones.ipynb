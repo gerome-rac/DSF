{
 "cells": [
  {
   "cell_type": "code",
   "execution_count": null,
   "metadata": {},
   "outputs": [],
   "source": [
    "from shapely import wkt\n",
    "import pandas as pd\n",
    "import geopandas as gpd\n",
    "\n",
    "\n",
    "\n",
    "# Load statistical zones data\n",
    "data_zones = pd.read_csv(\"../local_data/statistical_zones_raw.csv\")\n",
    "\n",
    "drop_zones_cols = [\n",
    "    \"objid\",\n",
    "    \"stzname\",\n",
    "    \"qnr\",\n",
    "    \"qname\",\n",
    "    \"knr\",\n",
    "    \"kname\",\n",
    "    \"stz_label\"\n",
    "]\n",
    "statistical_zones = data_zones.drop(columns=drop_zones_cols, errors=\"ignore\").copy()\n",
    "# no na values in the data\n",
    "\n",
    "# Convert WKT strings to geometry objects\n",
    "gdf = gpd.GeoDataFrame(\n",
    "    statistical_zones,\n",
    "    geometry=statistical_zones['geometry'].apply(wkt.loads),\n",
    "    crs=\"EPSG:2056\"  # CH1903+ / LV95\n",
    "\n",
    ")\n",
    "\n",
    "\n",
    "# Transform to WGS84 directly using GeoDataFrame\n",
    "gdf = gdf.to_crs(\"EPSG:4326\")  # WGS84\n",
    "\n",
    "gdf.to_file(\"../local_data/statistical_zones_cleaned.geojson\", driver=\"GeoJSON\")"
   ]
  },
  {
   "cell_type": "code",
   "execution_count": null,
   "metadata": {},
   "outputs": [],
   "source": []
  }
 ],
 "metadata": {
  "kernelspec": {
   "display_name": "dsf",
   "language": "python",
   "name": "python3"
  },
  "language_info": {
   "codemirror_mode": {
    "name": "ipython",
    "version": 3
   },
   "file_extension": ".py",
   "mimetype": "text/x-python",
   "name": "python",
   "nbconvert_exporter": "python",
   "pygments_lexer": "ipython3",
   "version": "3.11.10"
  }
 },
 "nbformat": 4,
 "nbformat_minor": 2
}
